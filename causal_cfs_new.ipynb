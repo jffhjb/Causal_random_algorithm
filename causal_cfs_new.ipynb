{
 "cells": [
  {
   "cell_type": "code",
   "execution_count": 1,
   "id": "9a52f90f",
   "metadata": {},
   "outputs": [],
   "source": [
    "\n",
    "import os\n",
    "import random\n",
    "import time\n",
    "import numpy as np\n",
    "import pandas as pd\n",
    "import tensorflow as tf\n",
    "\n",
    "# Global reproducibility \n",
    "SEED = 42\n",
    "os.environ[\"PYTHONHASHSEED\"] = str(SEED)\n",
    "os.environ[\"TF_DETERMINISTIC_OPS\"] = \"1\"\n",
    "try:\n",
    "    # For cuDNN determinism (if using GPU)\n",
    "    os.environ[\"TF_CUDNN_DETERMINISTIC\"] = \"1\"\n",
    "except Exception:\n",
    "    pass\n",
    "\n",
    "def set_seed(s: int = SEED):\n",
    "    random.seed(s)\n",
    "    np.random.seed(s)\n",
    "    tf.random.set_seed(s)\n",
    "\n",
    "set_seed(SEED)\n",
    "\n"
   ]
  },
  {
   "cell_type": "code",
   "execution_count": 2,
   "id": "2689150d",
   "metadata": {},
   "outputs": [
    {
     "name": "stdout",
     "output_type": "stream",
     "text": [
      "DAG edges: [('X1', 'Y'), ('X2', 'X3'), ('X2', 'X4'), ('X2', 'Y'), ('X3', 'X4'), ('X3', 'X6'), ('X3', 'Y'), ('X4', 'X5'), ('X4', 'X6'), ('X4', 'Y'), ('X5', 'Y'), ('X6', 'Y')]\n",
      "         X1        X2        X3        X4        X5        X6  Y\n",
      "0  1.257463 -0.751156  2.649914  2.807496  3.078387 -2.933621  0\n",
      "1 -1.681107  1.324062  1.661050  2.992502  2.214751 -1.123408  0\n",
      "2 -0.399573  1.774555  0.813562  2.380228  0.420533 -1.066249  1\n",
      "3 -1.432737  0.627148  1.389300  3.439256  3.642984 -0.091124  0\n",
      "4  0.192942 -0.437777  2.853746  2.059305  1.789146 -2.656691  0\n",
      "0    422\n",
      "1     78\n",
      "Name: Y, dtype: int64\n"
     ]
    }
   ],
   "source": [
    "import numpy as np\n",
    "import pandas as pd\n",
    "import networkx as nx\n",
    "\n",
    "# ===== 1) 随机生成 DAG（强制 Y 作为汇点） =====\n",
    "def make_random_dag_for_7(seed=42, p_x=0.35, p_to_y=0.5, min_parents_y=2):\n",
    "    rng = np.random.default_rng(seed)\n",
    "    Xs = [f\"X{i}\" for i in range(1, 7)]\n",
    "    Y  = \"Y\"\n",
    "\n",
    "    dag = nx.DiGraph()\n",
    "    dag.add_nodes_from(Xs + [Y])\n",
    "\n",
    "    # X 内部随机连边（只允许从索引小的指向大的）\n",
    "    for i in range(len(Xs)):\n",
    "        for j in range(i + 1, len(Xs)):\n",
    "            if rng.random() < p_x:\n",
    "                dag.add_edge(Xs[i], Xs[j])\n",
    "\n",
    "    # Xi -> Y 的随机边\n",
    "    parents_y = []\n",
    "    for xi in Xs:\n",
    "        if rng.random() < p_to_y:\n",
    "            dag.add_edge(xi, Y)\n",
    "            parents_y.append(xi)\n",
    "\n",
    "    # 若父节点太少，强制补足\n",
    "    if len(parents_y) < min_parents_y:\n",
    "        need = min_parents_y - len(parents_y)\n",
    "        candidates = [x for x in Xs if x not in parents_y]\n",
    "        forced = rng.choice(candidates, size=need, replace=False).tolist()\n",
    "        for xi in forced:\n",
    "            dag.add_edge(xi, Y)\n",
    "\n",
    "    # 确保是 DAG，且 Y 是汇点（没有子节点）\n",
    "    assert nx.is_directed_acyclic_graph(dag)\n",
    "    assert list(dag.successors(Y)) == []\n",
    "\n",
    "    return dag\n",
    "\n",
    "# ===== 2) 用 SEM 按 DAG 采样，Y 为二分类 =====\n",
    "def simulate_sem(dag, n=1000, seed=42, nonlinear=False, noise_scale=1.0, binary_Y=True):\n",
    "    rng = np.random.default_rng(seed)\n",
    "    order = list(nx.topological_sort(dag))\n",
    "    data = pd.DataFrame(index=range(n), columns=order, dtype=float)\n",
    "\n",
    "    # 随机权重和偏置\n",
    "    W, bias = {}, {}\n",
    "    for u, v in dag.edges():\n",
    "        W[(u, v)] = round(rng.uniform(-2.0, 2.0) * 0.8, 2)\n",
    "    for v in dag.nodes():\n",
    "        bias[v] = round(rng.uniform(-1.0, 1.0), 2)\n",
    "\n",
    "    for v in order:\n",
    "        parents = list(dag.predecessors(v))\n",
    "        if not parents:  # root：标准正态\n",
    "            data[v] = np.round(rng.normal(0, 1, size=n), 2)\n",
    "        else:\n",
    "            lin = bias[v]\n",
    "            for p in parents:\n",
    "                lin += W[(p, v)] * data[p].values\n",
    "\n",
    "            if v == \"Y\" and binary_Y:\n",
    "                # logistic 分类\n",
    "                logits = lin + rng.normal(0, noise_scale, size=n)\n",
    "                probs = 1 / (1 + np.exp(-logits))\n",
    "                data[v] = (probs > 0.5).astype(int)\n",
    "            else:\n",
    "                if nonlinear:\n",
    "                    nl = 0.6 * np.tanh(lin) + 0.3 * np.sin(lin)\n",
    "                    val = np.round(lin + nl + rng.normal(0, noise_scale, size=n), 2)\n",
    "                else:\n",
    "                    val = np.round(lin + rng.normal(0, noise_scale, size=n), 2)\n",
    "                data[v] = val\n",
    "\n",
    "    return data\n",
    "\n",
    "# ===== 3) 打包函数：生成 7 变量数据集 =====\n",
    "def make_7vars_dataset(n=1000, seed=42, p_x=0.35, p_to_y=0.5,\n",
    "                       min_parents_y=2, nonlinear=False, noise_scale=1.0, binary_Y=True):\n",
    "    dag = make_random_dag_for_7(seed=seed, p_x=p_x, p_to_y=p_to_y, min_parents_y=min_parents_y)\n",
    "    df  = simulate_sem(dag, n=n, seed=seed, nonlinear=nonlinear,\n",
    "                       noise_scale=noise_scale, binary_Y=binary_Y)\n",
    "    cols = [f\"X{i}\" for i in range(1, 7)] + [\"Y\"]\n",
    "    return dag, df[cols]\n",
    "\n",
    "# ===== 4) 测试 =====\n",
    "dag, df = make_7vars_dataset(n=500, seed=2025, nonlinear=True, binary_Y=True)\n",
    "\n",
    "print(\"DAG edges:\", list(dag.edges()))\n",
    "print(df.head())\n",
    "print(df[\"Y\"].value_counts())\n",
    "\n"
   ]
  },
  {
   "cell_type": "code",
   "execution_count": 3,
   "id": "4b5c3824",
   "metadata": {},
   "outputs": [],
   "source": [
    "from sklearn.model_selection import train_test_split\n",
    "import dice_ml\n",
    "target = df['Y']\n",
    "\n",
    "# 对对应部位进行裁切处理\n",
    "df_X = df.drop(columns=['Y'])\n",
    "dag.remove_node(\"Y\")\n",
    "\n",
    "train_dataset, test_dataset, y_train, y_test = train_test_split(df, \n",
    "                                                                target,\n",
    "                                                                test_size=0.2, \n",
    "                                                                random_state=42, \n",
    "                                                                stratify=df['Y'])\n",
    "X_train_df = train_dataset.drop('Y', axis=1)\n",
    "X_test_df = test_dataset.drop('Y', axis=1)\n",
    "\n",
    "X_train = X_train_df.values\n",
    "X_test = X_test_df.values\n",
    "\n",
    "d = dice_ml.Data(dataframe=train_dataset,\n",
    "                 continuous_features=[c for c in train_dataset.columns if c != 'Y'],\n",
    "                 outcome_name='Y')"
   ]
  },
  {
   "cell_type": "code",
   "execution_count": 4,
   "id": "1f298359",
   "metadata": {},
   "outputs": [
    {
     "data": {
      "text/plain": [
       "array([[ 0.48291469, -0.24951748,  1.90792947,  1.85746834,  3.17033403,\n",
       "        -1.44578283],\n",
       "       [-1.43273675,  0.62714818,  1.38930027,  3.43925561,  3.64298406,\n",
       "        -0.09112429],\n",
       "       [-0.30170142,  2.05866465,  0.3758169 ,  3.60496265,  5.23155132,\n",
       "         2.40371864],\n",
       "       ...,\n",
       "       [ 0.55481076, -1.10149711,  3.39138952,  3.75575886,  5.69197726,\n",
       "        -3.76195485],\n",
       "       [-1.08923558, -0.59357475,  3.19701926,  4.77881119,  7.54855788,\n",
       "        -1.69385795],\n",
       "       [-0.16862637,  0.68104999,  0.66481691,  1.29082133,  2.31747579,\n",
       "        -0.19700543]])"
      ]
     },
     "execution_count": 4,
     "metadata": {},
     "output_type": "execute_result"
    }
   ],
   "source": [
    "X_train"
   ]
  },
  {
   "cell_type": "code",
   "execution_count": 5,
   "id": "b85797aa",
   "metadata": {},
   "outputs": [
    {
     "name": "stderr",
     "output_type": "stream",
     "text": [
      "C:\\Users\\a1227\\AppData\\Local\\Temp\\ipykernel_41140\\2790911026.py:5: DeprecationWarning: nx.nx_pydot.pydot_layout depends on the pydot package, which has known issues and is not actively maintained.\n",
      "\n",
      "See https://github.com/networkx/networkx/issues/5723\n",
      "  pos = nx.nx_pydot.pydot_layout(dag, prog='dot')      # 否则用 pydot\n"
     ]
    },
    {
     "data": {
      "image/png": "[encoded data removed]",
      "text/plain": [
       "<Figure size 1000x600 with 1 Axes>"
      ]
     },
     "metadata": {},
     "output_type": "display_data"
    }
   ],
   "source": [
    "# 可视化因果图\n",
    "import matplotlib.pyplot as plt\n",
    "\n",
    "\n",
    "pos = nx.nx_pydot.pydot_layout(dag, prog='dot')      # 否则用 pydot\n",
    "\n",
    "plt.figure(figsize=(10, 6))\n",
    "\n",
    "# 画节点\n",
    "nx.draw_networkx_nodes(dag, pos, node_size=500, node_color='skyblue')\n",
    "\n",
    "# 画边（从上往下）\n",
    "nx.draw_networkx_edges(\n",
    "    dag, pos,\n",
    "    arrows=True,\n",
    "    arrowstyle='->',\n",
    "    arrowsize=20,\n",
    "    width=2\n",
    ")\n",
    "\n",
    "# 标签\n",
    "nx.draw_networkx_labels(dag, pos, font_size=10)\n",
    "\n",
    "plt.title(\"Causal Graph (Top-Down Layout)\", fontsize=14)\n",
    "plt.axis('off')\n",
    "plt.tight_layout()\n",
    "plt.savefig('./results/causal_graph.png')\n",
    "plt.show()\n"
   ]
  },
  {
   "cell_type": "code",
   "execution_count": 6,
   "id": "6e86c7ea",
   "metadata": {},
   "outputs": [
    {
     "name": "stderr",
     "output_type": "stream",
     "text": [
      "d:\\ANACONDA\\envs\\dice_XAI\\lib\\site-packages\\tqdm\\auto.py:21: TqdmWarning: IProgress not found. Please update jupyter and ipywidgets. See https://ipywidgets.readthedocs.io/en/stable/user_install.html\n",
      "  from .autonotebook import tqdm as notebook_tqdm\n",
      "Fitting causal mechanism of node X6: 100%|██████████| 6/6 [00:00<00:00, 99.08it/s]\n"
     ]
    }
   ],
   "source": [
    "from dowhy import gcm\n",
    "from dowhy.gcm.auto import AssignmentQuality\n",
    "\n",
    "\n",
    "# 🟢 设置GCM模型的随机种子\n",
"np.random.seed(42)\n",
"random.seed(42)\n",
"\n",
"scm = gcm.InvertibleStructuralCausalModel(dag)\n",
"summary = gcm.auto.assign_causal_mechanisms(\n",
"    scm, df, quality=AssignmentQuality.GOOD\n",
")\n",
"gcm.fit(scm, df)"
   ]
  },
  {
   "cell_type": "code",
   "execution_count": 7,
   "id": "6fcb4e4c",
   "metadata": {},
   "outputs": [
    {
     "data": {
      "text/html": [
       "<div>\n",
       "<style scoped>\n",
       "    .dataframe tbody tr th:only-of-type {\n",
       "        vertical-align: middle;\n",
       "    }\n",
       "\n",
       "    .dataframe tbody tr th {\n",
       "        vertical-align: top;\n",
       "    }\n",
       "\n",
       "    .dataframe thead th {\n",
       "        text-align: right;\n",
       "    }\n",
       "</style>\n",
       "<table border=\"1\" class=\"dataframe\">\n",
       "  <thead>\n",
       "    <tr style=\"text-align: right;\">\n",
       "      <th></th>\n",
       "      <th>X1</th>\n",
       "      <th>X2</th>\n",
       "      <th>X3</th>\n",
       "      <th>X4</th>\n",
       "      <th>X5</th>\n",
       "      <th>X6</th>\n",
       "    </tr>\n",
       "  </thead>\n",
       "  <tbody>\n",
       "    <tr>\n",
       "      <th>0</th>\n",
       "      <td>1</td>\n",
       "      <td>-0.751156</td>\n",
       "      <td>2.649914</td>\n",
       "      <td>2.807496</td>\n",
       "      <td>3.078387</td>\n",
       "      <td>-2.933621</td>\n",
       "    </tr>\n",
       "  </tbody>\n",
       "</table>\n",
       "</div>"
      ],
      "text/plain": [
       "   X1        X2        X3        X4        X5        X6\n",
       "0   1 -0.751156  2.649914  2.807496  3.078387 -2.933621"
      ]
     },
     "execution_count": 7,
     "metadata": {},
     "output_type": "execute_result"
    }
   ],
   "source": [
    "gcm.counterfactual_samples(\n",
    "    scm,\n",
    "    {'X1': lambda x: 1},   # 保证 shape 相同\n",
    "    observed_data=df[:1]\n",
    ")[df_X.columns]"
   ]
  },
  {
   "cell_type": "code",
   "execution_count": 8,
   "id": "c0d2ff00",
   "metadata": {},
   "outputs": [
    {
     "name": "stdout",
     "output_type": "stream",
     "text": [
      "Epoch 1/10\n",
      "50/50 [==============================] - 1s 3ms/step - loss: 1.4117 - accuracy: 0.1950\n",
      "Epoch 2/10\n",
      "50/50 [==============================] - 0s 2ms/step - loss: 0.8894 - accuracy: 0.3575\n",
      "Epoch 3/10\n",
      "50/50 [==============================] - 0s 2ms/step - loss: 0.5921 - accuracy: 0.6400\n",
      "Epoch 4/10\n",
      "50/50 [==============================] - 0s 3ms/step - loss: 0.4247 - accuracy: 0.8400\n",
      "Epoch 5/10\n",
      "50/50 [==============================] - 0s 3ms/step - loss: 0.3333 - accuracy: 0.8825\n",
      "Epoch 6/10\n",
      "50/50 [==============================] - 0s 2ms/step - loss: 0.2847 - accuracy: 0.8925\n",
      "Epoch 7/10\n",
      "50/50 [==============================] - 0s 2ms/step - loss: 0.2550 - accuracy: 0.8975\n",
      "Epoch 8/10\n",
      "50/50 [==============================] - 0s 3ms/step - loss: 0.2367 - accuracy: 0.9025\n",
      "Epoch 9/10\n",
      "50/50 [==============================] - 0s 4ms/step - loss: 0.2234 - accuracy: 0.9100\n",
      "Epoch 10/10\n",
      "50/50 [==============================] - 0s 3ms/step - loss: 0.2132 - accuracy: 0.9125\n"
     ]
    },
    {
     "data": {
      "text/plain": [
       "<keras.src.callbacks.History at 0x28a6fe61850>"
      ]
     },
     "execution_count": 8,
     "metadata": {},
     "output_type": "execute_result"
    }
   ],
   "source": [
    "from tensorflow import keras\n",
    "from tensorflow.keras.utils import to_categorical\n",
    "\n",
    "\n",
    "def build_simple_dnn():\n",
    "    model = keras.models.Sequential()\n",
    "    model.add(keras.layers.Dense(8, activation='relu', input_shape=(6,)))  # 输入31维特征\n",
    "    model.add(keras.layers.Dense(2, activation='softmax'))\n",
    "    model.compile(optimizer='adam', loss='categorical_crossentropy', metrics=['accuracy'])\n",
    "    return model\n",
    "\n",
    "set_seed(1)\n",
    "\n",
    "model = build_simple_dnn()\n",
    "\n",
    "# 6️⃣ 训练模型\n",
    "model.fit(X_train, to_categorical(y_train), epochs=10, batch_size=8, verbose=1)\n"
   ]
  },
  {
   "cell_type": "code",
   "execution_count": 9,
   "id": "2c911f84",
   "metadata": {},
   "outputs": [
    {
     "name": "stderr",
     "output_type": "stream",
     "text": [
      "100%|██████████| 40/40 [36:49<00:00, 55.25s/it] \n"
     ]
    }
   ],
   "source": [
    "import importlib\n",
    "import dice_causal_random\n",
    "\n",
    "importlib.reload(dice_causal_random)\n",
    "\n",
    "from dice_causal_random import CausalRandom\n",
    "\n",
    "\n",
    "# Using sklearn backend\n",
    "m = dice_ml.Model(model=model, \n",
    "                  backend=\"TF2\")\n",
    "\n",
    "\n",
    "# 🟢 使用固定的随机种子创建CausalRandom实例\n",
"exp = CausalRandom(d, m, scm, random_seed=42)\n",
    "# 快速测试\n",
    "e1 = exp.generate_counterfactuals(\n",
"    X_test_df[:40],\n",
"    total_CFs=4,\n",
"    sample_size=500,\n",
"    random_seed=42  # 🟢 确保传入固定的随机种子\n",
")"
   ]
  },
  {
   "cell_type": "code",
   "execution_count": 10,
   "id": "1917788d",
   "metadata": {},
   "outputs": [
    {
     "data": {
      "text/html": [
       "<div>\n",
       "<style scoped>\n",
       "    .dataframe tbody tr th:only-of-type {\n",
       "        vertical-align: middle;\n",
       "    }\n",
       "\n",
       "    .dataframe tbody tr th {\n",
       "        vertical-align: top;\n",
       "    }\n",
       "\n",
       "    .dataframe thead th {\n",
       "        text-align: right;\n",
       "    }\n",
       "</style>\n",
       "<table border=\"1\" class=\"dataframe\">\n",
       "  <thead>\n",
       "    <tr style=\"text-align: right;\">\n",
       "      <th></th>\n",
       "      <th>X1</th>\n",
       "      <th>X2</th>\n",
       "      <th>X3</th>\n",
       "      <th>X4</th>\n",
       "      <th>X5</th>\n",
       "      <th>X6</th>\n",
       "      <th>Y</th>\n",
       "    </tr>\n",
       "  </thead>\n",
       "  <tbody>\n",
       "    <tr>\n",
       "      <th>0</th>\n",
       "      <td>-0.96867</td>\n",
       "      <td>-0.509821</td>\n",
       "      <td>0.943539</td>\n",
       "      <td>0.957314</td>\n",
       "      <td>0.087116</td>\n",
       "      <td>-1.260804</td>\n",
       "      <td>0</td>\n",
       "    </tr>\n",
       "  </tbody>\n",
       "</table>\n",
       "</div>"
      ],
      "text/plain": [
       "        X1        X2        X3        X4        X5        X6  Y\n",
       "0 -0.96867 -0.509821  0.943539  0.957314  0.087116 -1.260804  0"
      ]
     },
     "execution_count": 10,
     "metadata": {},
     "output_type": "execute_result"
    }
   ],
   "source": [
    "e1.cf_examples_list[30].test_instance_df"
   ]
  },
  {
   "cell_type": "code",
   "execution_count": 11,
   "id": "57093542",
   "metadata": {},
   "outputs": [
    {
     "data": {
      "text/html": [
       "<div>\n",
       "<style scoped>\n",
       "    .dataframe tbody tr th:only-of-type {\n",
       "        vertical-align: middle;\n",
       "    }\n",
       "\n",
       "    .dataframe tbody tr th {\n",
       "        vertical-align: top;\n",
       "    }\n",
       "\n",
       "    .dataframe thead th {\n",
       "        text-align: right;\n",
       "    }\n",
       "</style>\n",
       "<table border=\"1\" class=\"dataframe\">\n",
       "  <thead>\n",
       "    <tr style=\"text-align: right;\">\n",
       "      <th></th>\n",
       "      <th>X1</th>\n",
       "      <th>X2</th>\n",
       "      <th>X3</th>\n",
       "      <th>X4</th>\n",
       "      <th>X5</th>\n",
       "      <th>X6</th>\n",
       "      <th>Y</th>\n",
       "    </tr>\n",
       "  </thead>\n",
       "  <tbody>\n",
       "    <tr>\n",
       "      <th>0</th>\n",
       "      <td>1.526082</td>\n",
       "      <td>-0.509821</td>\n",
       "      <td>0.943539</td>\n",
       "      <td>0.957314</td>\n",
       "      <td>0.087116</td>\n",
       "      <td>-1.260804</td>\n",
       "      <td>1</td>\n",
       "    </tr>\n",
       "    <tr>\n",
       "      <th>1</th>\n",
       "      <td>-0.833710</td>\n",
       "      <td>-0.509821</td>\n",
       "      <td>-0.166433</td>\n",
       "      <td>-1.473523</td>\n",
       "      <td>-4.052720</td>\n",
       "      <td>-1.319865</td>\n",
       "      <td>1</td>\n",
       "    </tr>\n",
       "    <tr>\n",
       "      <th>2</th>\n",
       "      <td>1.317607</td>\n",
       "      <td>-0.509821</td>\n",
       "      <td>0.943539</td>\n",
       "      <td>0.957314</td>\n",
       "      <td>0.087116</td>\n",
       "      <td>-1.260804</td>\n",
       "      <td>1</td>\n",
       "    </tr>\n",
       "    <tr>\n",
       "      <th>3</th>\n",
       "      <td>-0.968670</td>\n",
       "      <td>-1.125397</td>\n",
       "      <td>1.288555</td>\n",
       "      <td>-0.623208</td>\n",
       "      <td>-2.551038</td>\n",
       "      <td>-2.994741</td>\n",
       "      <td>1</td>\n",
       "    </tr>\n",
       "  </tbody>\n",
       "</table>\n",
       "</div>"
      ],
      "text/plain": [
       "         X1        X2        X3        X4        X5        X6  Y\n",
       "0  1.526082 -0.509821  0.943539  0.957314  0.087116 -1.260804  1\n",
       "1 -0.833710 -0.509821 -0.166433 -1.473523 -4.052720 -1.319865  1\n",
       "2  1.317607 -0.509821  0.943539  0.957314  0.087116 -1.260804  1\n",
       "3 -0.968670 -1.125397  1.288555 -0.623208 -2.551038 -2.994741  1"
      ]
     },
     "execution_count": 11,
     "metadata": {},
     "output_type": "execute_result"
    }
   ],
   "source": [
    "e1.cf_examples_list[30].final_cfs_df\n"
   ]
  },
  {
   "cell_type": "code",
   "execution_count": 12,
   "id": "7155f41b",
   "metadata": {},
   "outputs": [
    {
     "name": "stdout",
     "output_type": "stream",
     "text": [
      "1/1 [==============================] - 0s 82ms/step\n",
      "[[0.42516544 0.5748346 ]\n",
      " [0.11691798 0.88308203]\n",
      " [0.4368765  0.5631235 ]\n",
      " [0.28333458 0.7166654 ]]\n"
     ]
    }
   ],
   "source": [
    "# 取出反事实样本（去掉 Y 列）\n",
    "cf_samples = e1.cf_examples_list[30].final_cfs_df.drop(columns=['Y'])\n",
    "\n",
    "# 转成 numpy array\n",
    "cf_array = cf_samples.values\n",
    "\n",
    "# 用模型预测\n",
    "preds = model.predict(cf_array)\n",
    "\n",
    "\n",
    "print(preds)"
   ]
  },
  {
   "cell_type": "code",
   "execution_count": 13,
   "id": "563a52b2",
   "metadata": {},
   "outputs": [
    {
     "name": "stdout",
     "output_type": "stream",
     "text": [
      "[[('X1', 1.50801828816) ('X5', 0.175849182)]\n",
      " [('X1', 1.61965024916) ('X4', 0.905316858)]\n",
      " [('X5', -2.608763865) ('X3', 1.320082045)]\n",
      " [('X1', -1.23264765121) ('X3', -0.152362612)]]\n"
     ]
    }
   ],
   "source": [
    "print(e1.cf_examples_list[0].intervention_log)\n",
    "node1_1 = e1.cf_examples_list[0].intervention_log[0, 0][0]\n"
   ]
  },
  {
   "cell_type": "code",
   "execution_count": 14,
   "id": "1dcaf53e",
   "metadata": {},
   "outputs": [
    {
     "name": "stdout",
     "output_type": "stream",
     "text": [
      "(160, 7)\n",
      "         X1        X2        X3        X4        X5        X6  Y\n",
      "0  1.508018 -0.953438  1.609311  2.492076  0.175849 -1.917550  1\n",
      "1  1.619650 -0.953438  1.609311  0.905317  0.315574 -3.101052  1\n",
      "2  0.154981 -0.953438  1.609311  2.492076 -2.608764 -1.917550  1\n",
      "3 -1.232648 -0.953438 -0.152363 -1.432318 -3.666541 -1.983874  1\n",
      "4  0.992848 -1.468147  2.694949  1.306125 -0.540152 -2.667939  1\n"
     ]
    }
   ],
   "source": [
    "# 聚合所有反事实\n",
    "all_cfs = pd.concat([cf.final_cfs_df for cf in e1.cf_examples_list],\n",
    "                    ignore_index=True)\n",
    "\n",
    "print(all_cfs.shape)\n",
    "print(all_cfs.head())"
   ]
  },
  {
   "cell_type": "code",
   "execution_count": 15,
   "id": "f5f73701",
   "metadata": {},
   "outputs": [
    {
     "name": "stderr",
     "output_type": "stream",
     "text": [
      "Evaluating causal mechanisms...: 100%|██████████| 6/6 [00:00<00:00, 3000.22it/s]\n",
      "Test permutations of given graph: 100%|██████████| 50/50 [00:08<00:00,  6.03it/s]\n"
     ]
    },
    {
     "data": {
      "image/png": "[encoded data removed]",
      "text/plain": [
       "<Figure size 800x300 with 1 Axes>"
      ]
     },
     "metadata": {},
     "output_type": "display_data"
    },
    {
     "name": "stdout",
     "output_type": "stream",
     "text": [
      "Evaluated the performance of the causal mechanisms and the invertibility assumption of the causal mechanisms and the overall average KL divergence between generated and observed distribution and the graph structure. The results are as follows:\n",
      "\n",
      "==== Evaluation of Causal Mechanisms ====\n",
      "The used evaluation metrics are:\n",
      "- KL divergence (only for root-nodes): Evaluates the divergence between the generated and the observed distribution.\n",
      "- Mean Squared Error (MSE): Evaluates the average squared differences between the observed values and the conditional expectation of the causal mechanisms.\n",
      "- Normalized MSE (NMSE): The MSE normalized by the standard deviation for better comparison.\n",
      "- R2 coefficient: Indicates how much variance is explained by the conditional expectations of the mechanisms. Note, however, that this can be misleading for nonlinear relationships.\n",
      "- F1 score (only for categorical non-root nodes): The harmonic mean of the precision and recall indicating the goodness of the underlying classifier model.\n",
      "- (normalized) Continuous Ranked Probability Score (CRPS): The CRPS generalizes the Mean Absolute Percentage Error to probabilistic predictions. This gives insights into the accuracy and calibration of the causal mechanisms.\n",
      "NOTE: Every metric focuses on different aspects and they might not consistently indicate a good or bad performance.\n",
      "We will mostly utilize the CRPS for comparing and interpreting the performance of the mechanisms, since this captures the most important properties for the causal model.\n",
      "\n",
      "--- Node X1\n",
      "- The KL divergence between generated and observed distribution is 0.2785694168491271.\n",
      "The estimated KL divergence indicates an overall very good representation of the data distribution.\n",
      "\n",
      "--- Node X2\n",
      "- The KL divergence between generated and observed distribution is 0.5115168561049781.\n",
      "The estimated KL divergence indicates a good representation of the data distribution, but might indicate some smaller mismatches between the distributions.\n",
      "\n",
      "--- Node X3\n",
      "- The MSE is 1.4631718604015185.\n",
      "- The NMSE is 1.03156884156435.\n",
      "- The R2 coefficient is -0.06580264856582715.\n",
      "- The normalized CRPS is 0.5918102821628686.\n",
      "The estimated CRPS indicates only a fair model performance. Note, however, that a high CRPS could also result from a small signal to noise ratio.\n",
      "The mechanism is better or equally good than all 7 baseline mechanisms.\n",
      "\n",
      "--- Node X4\n",
      "- The MSE is 2.3831111355639685.\n",
      "- The NMSE is 0.9290482991008918.\n",
      "- The R2 coefficient is 0.13068962560104244.\n",
      "- The normalized CRPS is 0.5205803130636724.\n",
      "The estimated CRPS indicates only a fair model performance. Note, however, that a high CRPS could also result from a small signal to noise ratio.\n",
      "The mechanism is better or equally good than all 7 baseline mechanisms.\n",
      "\n",
      "--- Node X5\n",
      "- The MSE is 6.426791410897435.\n",
      "- The NMSE is 0.913233798462463.\n",
      "- The R2 coefficient is 0.1568182980247036.\n",
      "- The normalized CRPS is 0.4881874102791035.\n",
      "The estimated CRPS indicates only a fair model performance. Note, however, that a high CRPS could also result from a small signal to noise ratio.\n",
      "The mechanism is better or equally good than all 7 baseline mechanisms.\n",
      "\n",
      "--- Node X6\n",
      "- The MSE is 1.948726523937776.\n",
      "- The NMSE is 0.7159414333085811.\n",
      "- The R2 coefficient is 0.48022419901448005.\n",
      "- The normalized CRPS is 0.4044538734547384.\n",
      "The estimated CRPS indicates only a fair model performance. Note, however, that a high CRPS could also result from a small signal to noise ratio.\n",
      "The mechanism is better or equally good than all 7 baseline mechanisms.\n",
      "\n",
      "==== Evaluation of Invertible Functional Causal Model Assumption ====\n",
      "\n",
      "--- The model assumption for node X3 is rejected with a p-value of 0.013706473182983903 (after potential adjustment) and a significance level of 0.05.\n",
      "This implies that the model assumption might not be valid. This is, the relationship cannot be represent with this type of mechanism or there is a hidden confounder between the node and its parents.\n",
      "\n",
      "--- The model assumption for node X4 is rejected with a p-value of 0.0 (after potential adjustment) and a significance level of 0.05.\n",
      "This implies that the model assumption might not be valid. This is, the relationship cannot be represent with this type of mechanism or there is a hidden confounder between the node and its parents.\n",
      "\n",
      "--- The model assumption for node X5 is rejected with a p-value of 4.440892098500626e-16 (after potential adjustment) and a significance level of 0.05.\n",
      "This implies that the model assumption might not be valid. This is, the relationship cannot be represent with this type of mechanism or there is a hidden confounder between the node and its parents.\n",
      "\n",
      "--- The model assumption for node X6 is not rejected with a p-value of 1.0 (after potential adjustment) and a significance level of 0.05.\n",
      "This implies that the model assumption might be valid.\n",
      "\n",
      "Note that these results are based on statistical independence tests, and the fact that the assumption was not rejected does not necessarily imply that it is correct. There is just no evidence against it.\n",
      "\n",
      "==== Evaluation of Generated Distribution ====\n",
      "The overall average KL divergence between the generated and observed distribution is 0.7164762630694342\n",
      "The estimated KL divergence indicates a good representation of the data distribution, but might indicate some smaller mismatches between the distributions.\n",
      "\n",
      "==== Evaluation of the Causal Graph Structure ====\n",
      "+-------------------------------------------------------------------------------------------------------+\n",
      "|                                         Falsification Summary                                         |\n",
      "+-------------------------------------------------------------------------------------------------------+\n",
      "| The given DAG is informative because 0 / 50 of the permutations lie in the Markov                     |\n",
      "| equivalence class of the given DAG (p-value: 0.00).                                                   |\n",
      "| The given DAG violates 6/15 LMCs and is better than 92.0% of the permuted DAGs (p-value: 0.08).       |\n",
      "| Based on the provided significance level (0.2) and because the DAG is informative,                    |\n",
      "| we do not reject the DAG.                                                                             |\n",
      "+-------------------------------------------------------------------------------------------------------+\n",
      "\n",
      "==== NOTE ====\n",
      "Always double check the made model assumptions with respect to the graph structure and choice of causal mechanisms.\n",
      "All these evaluations give some insight into the goodness of the causal model, but should not be overinterpreted, since some causal relationships can be intrinsically hard to model. Furthermore, many algorithms are fairly robust against misspecifications or poor performances of causal mechanisms.\n"
     ]
    }
   ],
   "source": [
    "summary_evaluation = gcm.evaluate_causal_model(scm, all_cfs, compare_mechanism_baselines=True)\n",
    "print(summary_evaluation)"
   ]
  },
  {
   "cell_type": "code",
   "execution_count": 16,
   "id": "87e00985",
   "metadata": {},
   "outputs": [
    {
     "name": "stderr",
     "output_type": "stream",
     "text": [
      "100%|██████████| 40/40 [02:37<00:00,  3.94s/it]\n"
     ]
    }
   ],
   "source": [
    "# Using method=random for generating CFs\n",
    "exp = dice_ml.Dice(d, m,\n",
    "                   method=\"random\")\n",
    "\n",
    "e2 = exp.generate_counterfactuals(\n",
    "    X_test_df[:40],\n",
    "    total_CFs=4,\n",
    "    desired_class=\"opposite\",\n",
    "    features_to_vary = 'all',\n",
    "    sample_size=500\n",
    ")"
   ]
  },
  {
   "cell_type": "code",
   "execution_count": 17,
   "id": "6d5ea117",
   "metadata": {},
   "outputs": [
    {
     "name": "stderr",
     "output_type": "stream",
     "text": [
      "Evaluating causal mechanisms...: 100%|██████████| 6/6 [00:00<?, ?it/s]\n",
      "Test permutations of given graph: 100%|██████████| 50/50 [00:03<00:00, 16.16it/s]\n"
     ]
    },
    {
     "data": {
      "image/png": "[encoded data removed]",
      "text/plain": [
       "<Figure size 800x300 with 1 Axes>"
      ]
     },
     "metadata": {},
     "output_type": "display_data"
    },
    {
     "name": "stdout",
     "output_type": "stream",
     "text": [
      "Evaluated the performance of the causal mechanisms and the invertibility assumption of the causal mechanisms and the overall average KL divergence between generated and observed distribution and the graph structure. The results are as follows:\n",
      "\n",
      "==== Evaluation of Causal Mechanisms ====\n",
      "The used evaluation metrics are:\n",
      "- KL divergence (only for root-nodes): Evaluates the divergence between the generated and the observed distribution.\n",
      "- Mean Squared Error (MSE): Evaluates the average squared differences between the observed values and the conditional expectation of the causal mechanisms.\n",
      "- Normalized MSE (NMSE): The MSE normalized by the standard deviation for better comparison.\n",
      "- R2 coefficient: Indicates how much variance is explained by the conditional expectations of the mechanisms. Note, however, that this can be misleading for nonlinear relationships.\n",
      "- F1 score (only for categorical non-root nodes): The harmonic mean of the precision and recall indicating the goodness of the underlying classifier model.\n",
      "- (normalized) Continuous Ranked Probability Score (CRPS): The CRPS generalizes the Mean Absolute Percentage Error to probabilistic predictions. This gives insights into the accuracy and calibration of the causal mechanisms.\n",
      "NOTE: Every metric focuses on different aspects and they might not consistently indicate a good or bad performance.\n",
      "We will mostly utilize the CRPS for comparing and interpreting the performance of the mechanisms, since this captures the most important properties for the causal model.\n",
      "\n",
      "--- Node X1\n",
      "- The KL divergence between generated and observed distribution is 0.10913818411517104.\n",
      "The estimated KL divergence indicates an overall very good representation of the data distribution.\n",
      "\n",
      "--- Node X2\n",
      "- The KL divergence between generated and observed distribution is 0.08039932079819492.\n",
      "The estimated KL divergence indicates an overall very good representation of the data distribution.\n",
      "\n",
      "--- Node X3\n",
      "- The MSE is 1.9144611868077361.\n",
      "- The NMSE is 1.0117669455193194.\n",
      "- The R2 coefficient is -0.025121172588637997.\n",
      "- The normalized CRPS is 0.5599831870454435.\n",
      "The estimated CRPS indicates only a fair model performance. Note, however, that a high CRPS could also result from a small signal to noise ratio.\n",
      "The mechanism is better or equally good than all 7 baseline mechanisms.\n",
      "\n",
      "--- Node X4\n",
      "- The MSE is 8.80101276866833.\n",
      "- The NMSE is 1.0360718166804646.\n",
      "- The R2 coefficient is -0.0773278888762384.\n",
      "- The normalized CRPS is 0.601173341016785.\n",
      "The estimated CRPS indicates only a fair model performance. Note, however, that a high CRPS could also result from a small signal to noise ratio.\n",
      "The mechanism is better or equally good than all 7 baseline mechanisms.\n",
      "\n",
      "--- Node X5\n",
      "- The MSE is 12.814019065354694.\n",
      "- The NMSE is 0.7048177413661002.\n",
      "- The R2 coefficient is 0.49932109768677047.\n",
      "- The normalized CRPS is 0.39304489060074105.\n",
      "The estimated CRPS indicates only a fair model performance. Note, however, that a high CRPS could also result from a small signal to noise ratio.\n",
      "The mechanism is better or equally good than all 7 baseline mechanisms.\n",
      "\n",
      "--- Node X6\n",
      "- The MSE is 5.3845553242284225.\n",
      "- The NMSE is 1.0556806938188437.\n",
      "- The R2 coefficient is -0.1149710639302461.\n",
      "- The normalized CRPS is 0.5914769846903307.\n",
      "The estimated CRPS indicates only a fair model performance. Note, however, that a high CRPS could also result from a small signal to noise ratio.\n",
      "The mechanism is better or equally good than all 7 baseline mechanisms.\n",
      "\n",
      "==== Evaluation of Invertible Functional Causal Model Assumption ====\n",
      "\n",
      "--- The model assumption for node X3 is rejected with a p-value of 1.8679978639024597e-05 (after potential adjustment) and a significance level of 0.05.\n",
      "This implies that the model assumption might not be valid. This is, the relationship cannot be represent with this type of mechanism or there is a hidden confounder between the node and its parents.\n",
      "\n",
      "--- The model assumption for node X4 is rejected with a p-value of 8.43769498715119e-15 (after potential adjustment) and a significance level of 0.05.\n",
      "This implies that the model assumption might not be valid. This is, the relationship cannot be represent with this type of mechanism or there is a hidden confounder between the node and its parents.\n",
      "\n",
      "--- The model assumption for node X5 is rejected with a p-value of 0.0 (after potential adjustment) and a significance level of 0.05.\n",
      "This implies that the model assumption might not be valid. This is, the relationship cannot be represent with this type of mechanism or there is a hidden confounder between the node and its parents.\n",
      "\n",
      "--- The model assumption for node X6 is rejected with a p-value of 0.0 (after potential adjustment) and a significance level of 0.05.\n",
      "This implies that the model assumption might not be valid. This is, the relationship cannot be represent with this type of mechanism or there is a hidden confounder between the node and its parents.\n",
      "\n",
      "Note that these results are based on statistical independence tests, and the fact that the assumption was not rejected does not necessarily imply that it is correct. There is just no evidence against it.\n",
      "\n",
      "==== Evaluation of Generated Distribution ====\n",
      "The overall average KL divergence between the generated and observed distribution is 0.9568320055985818\n",
      "The estimated KL divergence indicates a good representation of the data distribution, but might indicate some smaller mismatches between the distributions.\n",
      "\n",
      "==== Evaluation of the Causal Graph Structure ====\n",
      "+-------------------------------------------------------------------------------------------------------+\n",
      "|                                         Falsification Summary                                         |\n",
      "+-------------------------------------------------------------------------------------------------------+\n",
      "| The given DAG is informative because 0 / 50 of the permutations lie in the Markov                     |\n",
      "| equivalence class of the given DAG (p-value: 0.00).                                                   |\n",
      "| The given DAG violates 6/15 LMCs and is better than 72.0% of the permuted DAGs (p-value: 0.28).       |\n",
      "| Based on the provided significance level (0.2) and because the DAG is informative,                    |\n",
      "| we reject the DAG.                                                                                    |\n",
      "+-------------------------------------------------------------------------------------------------------+\n",
      "\n",
      "==== NOTE ====\n",
      "Always double check the made model assumptions with respect to the graph structure and choice of causal mechanisms.\n",
      "All these evaluations give some insight into the goodness of the causal model, but should not be overinterpreted, since some causal relationships can be intrinsically hard to model. Furthermore, many algorithms are fairly robust against misspecifications or poor performances of causal mechanisms.\n"
     ]
    }
   ],
   "source": [
    "# 聚合所有反事实\n",
    "all_cfs_random = pd.concat([cf.final_cfs_df for cf in e2.cf_examples_list],\n",
    "                    ignore_index=True)\n",
    "summary_evaluation = gcm.evaluate_causal_model(scm, all_cfs_random, compare_mechanism_baselines=True)\n",
    "print(summary_evaluation)"
   ]
  },
  {
   "cell_type": "code",
   "execution_count": 20,
   "id": "b29f6351",
   "metadata": {},
   "outputs": [],
   "source": [
    "df.to_csv('./results/df.csv', index=False)\n",
    "all_cfs.to_csv('./results/all_cfs.csv', index=False)\n",
    "all_cfs_random.to_csv('./results/all_cfs_random.csv', index=False)"
   ]
  }
 ],
 "metadata": {
  "kernelspec": {
   "display_name": "dice_XAI",
   "language": "python",
   "name": "python3"
  },
  "language_info": {
   "codemirror_mode": {
    "name": "ipython",
    "version": 3
   },
   "file_extension": ".py",
   "mimetype": "text/x-python",
   "name": "python",
   "nbconvert_exporter": "python",
   "pygments_lexer": "ipython3",
   "version": "3.9.21"
  }
 },
 "nbformat": 4,
 "nbformat_minor": 5
}
